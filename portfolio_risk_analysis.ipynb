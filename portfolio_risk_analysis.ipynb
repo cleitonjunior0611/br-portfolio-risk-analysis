{
  "nbformat": 4,
  "nbformat_minor": 0,
  "metadata": {
    "colab": {
      "provenance": []
    },
    "kernelspec": {
      "name": "python3",
      "display_name": "Python 3"
    },
    "language_info": {
      "name": "python"
    }
  },
  "cells": [
    {
      "cell_type": "markdown",
      "source": [
        "# Portfolio and Risk Analysis\n",
        "\n",
        "---\n",
        "\n",
        "\n",
        "\n",
        "Candidato: Cleiton José Carneiro Junior"
      ],
      "metadata": {
        "id": "h0MDJwShJLzt"
      }
    },
    {
      "cell_type": "markdown",
      "source": [
        "## Parte 1: Risco de Mercado"
      ],
      "metadata": {
        "id": "ciZ18GzXI1Co"
      }
    },
    {
      "cell_type": "markdown",
      "source": [
        "Considerando o espaço amostral das seguintes 20 ações abaixo para investir:\n",
        "\n",
        " * **Ações** = [BBDC4, SBSP3, ELET3, B3SA3, SUZB3, EQTL3, RENT3, RDOR3, RADL3,\n",
        "BRFS3, RAIL3, VBBR3, ENEV3, CPLE6, CCRO3, EGIE3, CSNA3, HYPE3, CPFE3, BEEF3].\n",
        "\n",
        "As empresas aqui listadas são de setores diversos (financeiro, saneamento, infraestrutura, saúde, papel e celulose, alimentos, siderurgia, locação de carros).\n"
      ],
      "metadata": {
        "id": "rUO24jEPKG39"
      }
    },
    {
      "cell_type": "markdown",
      "source": [
        "**1.      Cálculo da volatilidade para o período de 12 meses de cada uma das ações.**"
      ],
      "metadata": {
        "id": "UhVl5pfAYgbE"
      }
    },
    {
      "cell_type": "markdown",
      "source": [
        "\n",
        "A volatilidade anual de cada ação foi estimada com base nos preços de **fechamento ajustados diários**, obtidos via Yahoo Finance, no período de **31/12/2023 a 31/12/2024**.\n",
        "\n",
        "As etapas do cálculo foram:\n",
        "\n",
        "\n",
        "1. **Retornos Logarítmicos Diários**\n",
        "\n",
        "Os retornos foram calculados conforme a fórmula:\n",
        "\n",
        "$$\n",
        "r_t = \\ln\\left(\\frac{P_t}{P_{t-1}}\\right)\n",
        "$$\n",
        "\n",
        "- Onde:  \n",
        "  - $P_t$: preço ajustado no dia $t$  \n",
        "  - $P_{t-1}$: preço ajustado no dia anterior  \n",
        "\n",
        "> *Assume-se que os retornos seguem uma distribuição aproximadamente normal.*\n",
        "\n",
        "\n",
        "2. **Volatilidade Diária (Desvio Padrão Amostral)**\n",
        "\n",
        "A volatilidade diária corresponde ao desvio padrão dos retornos:\n",
        "\n",
        "$$\n",
        "\\sigma_{\\text{diária}} = \\sqrt{\\frac{1}{N - 1} \\sum_{i=1}^{N} (r_i - \\bar{r})^2}\n",
        "$$\n",
        "\n",
        "- Onde:\n",
        "  - $N$: número de dias úteis disponíveis\n",
        "  - $\\bar{r}$: média dos retornos diários\n",
        "\n",
        "> *Utiliza-se $N-1$ (correção de Bessel) para evitar viés na estimativa amostral.*\n",
        "\n",
        "\n",
        "3. **Anualização da Volatilidade**\n",
        "\n",
        "A volatilidade anualizada foi obtida pela fórmula:\n",
        "\n",
        "$$\n",
        "\\sigma_{\\text{anual}} = \\sigma_{\\text{diária}} \\times \\sqrt{252}\n",
        "$$\n",
        "\n",
        "- Assumindo:\n",
        "  - 252 dias úteis por ano (convenção do mercado financeiro)\n",
        "  - Independência dos retornos diários (hipótese de *random walk*)\n"
      ],
      "metadata": {
        "id": "Hr9fBXgUueVt"
      }
    },
    {
      "cell_type": "code",
      "source": [
        "import yfinance as yf\n",
        "import pandas as pd\n",
        "import numpy as np\n",
        "\n",
        "# Lista de tickers das ações\n",
        "tickers = [\n",
        "    \"BBDC4.SA\", \"SBSP3.SA\", \"ELET3.SA\", \"B3SA3.SA\", \"SUZB3.SA\",\n",
        "    \"EQTL3.SA\", \"RENT3.SA\", \"RDOR3.SA\", \"RADL3.SA\", \"BRFS3.SA\",\n",
        "    \"RAIL3.SA\", \"VBBR3.SA\", \"ENEV3.SA\", \"CPLE6.SA\", \"CCRO3.SA\",\n",
        "    \"EGIE3.SA\", \"CSNA3.SA\", \"HYPE3.SA\", \"CPFE3.SA\", \"BEEF3.SA\"\n",
        "]\n",
        "\n",
        "# Período de análise: 31/12/2023 a 31/12/2024\n",
        "# Lembrete: YahooFinance Timestamp tem o formato 'YYYY-MM-DD'\n",
        "start_date = \"2023-12-31\"\n",
        "end_date = \"2024-12-31\"\n",
        "\n",
        "# Dicionário para armazenar a volatilidade de cada ação\n",
        "volatilities = {}\n",
        "\n",
        "for ticker in tickers:\n",
        "    try:\n",
        "        # Baixar dados históricos\n",
        "        # 'auto_adjust=True' ajusta automaticamente para splits e dividendos, retornando o 'Adj Close' no DataFrame\n",
        "        data = yf.download(ticker, start=start_date, end=end_date, auto_adjust=True)\n",
        "\n",
        "        # Verificar se há dados suficientes\n",
        "        if data.empty:\n",
        "            print(f\"Aviso: Não foi possível baixar dados para {ticker}. Pulando.\")\n",
        "            volatilities[ticker] = np.nan\n",
        "            continue\n",
        "\n",
        "        # Calcular os retornos diários (retornos logarítmicos)\n",
        "        data['Returns'] = np.log(data['Close'] / data['Close'].shift(1))\n",
        "\n",
        "        # Remover a primeira linha que terá NaN devido ao shift\n",
        "        returns = data['Returns'].dropna()\n",
        "\n",
        "        # Verificar se há retornos para calcular\n",
        "        if returns.empty:\n",
        "            print(f\"Aviso: Não há retornos calculáveis para {ticker}. Pulando.\")\n",
        "            volatilities[ticker] = np.nan\n",
        "            continue\n",
        "\n",
        "        # Calcular o desvio padrão diário\n",
        "        daily_std = returns.std()\n",
        "\n",
        "        # Anualizar a volatilidade: Assumindo 252 dias úteis de negociação no ano\n",
        "        annual_volatility = daily_std * np.sqrt(252)\n",
        "\n",
        "        # Armazenar a volatilidade (em porcentagem)\n",
        "        volatilities[ticker] = annual_volatility * 100\n",
        "\n",
        "        print(f\"Volatilidade de {ticker}: {volatilities[ticker]:.2f}%\")\n",
        "\n",
        "    except Exception as e:\n",
        "        print(f\"Erro ao processar {ticker}: {e}\")\n",
        "        volatilities[ticker] = np.nan\n",
        "\n",
        "print(\"\\n--- Resultados Finais ---\")\n",
        "results_df = pd.DataFrame(volatilities.items(), columns=['Ação', 'Volatilidade Anual (%)'])\n",
        "results_df = results_df.sort_values(by='Volatilidade Anual (%)', ascending=False)\n",
        "\n",
        "# A linha original causava um erro porque .to_frame() é para Séries, e não DataFrames.\n",
        "# A abordagem corrigida mantém os dados como números e usa o Styler para a formatação.\n",
        "# A função display() renderiza a tabela estilizada no Colab.\n",
        "display(results_df.style.format({'Volatilidade Anual (%)': '{:.2f}%'}, na_rep=\"Dados Indisponíveis\"))"
      ],
      "metadata": {
        "colab": {
          "base_uri": "https://localhost:8080/",
          "height": 1000
        },
        "id": "8VFBBd7Sbe9Q",
        "outputId": "1ebbc37e-8338-4bff-f089-8d4578d453bb"
      },
      "execution_count": null,
      "outputs": [
        {
          "output_type": "stream",
          "name": "stderr",
          "text": [
            "[*********************100%***********************]  1 of 1 completed\n",
            "[*********************100%***********************]  1 of 1 completed\n"
          ]
        },
        {
          "output_type": "stream",
          "name": "stdout",
          "text": [
            "Volatilidade de BBDC4.SA: 28.04%\n",
            "Volatilidade de SBSP3.SA: 23.19%\n"
          ]
        },
        {
          "output_type": "stream",
          "name": "stderr",
          "text": [
            "\r[*********************100%***********************]  1 of 1 completed\n"
          ]
        },
        {
          "output_type": "stream",
          "name": "stdout",
          "text": [
            "Volatilidade de ELET3.SA: 23.91%\n"
          ]
        },
        {
          "output_type": "stream",
          "name": "stderr",
          "text": [
            "[*********************100%***********************]  1 of 1 completed\n",
            "[*********************100%***********************]  1 of 1 completed"
          ]
        },
        {
          "output_type": "stream",
          "name": "stdout",
          "text": [
            "Volatilidade de B3SA3.SA: 27.77%\n",
            "Volatilidade de SUZB3.SA: 28.09%\n"
          ]
        },
        {
          "output_type": "stream",
          "name": "stderr",
          "text": [
            "\n",
            "\r[*********************100%***********************]  1 of 1 completed\n"
          ]
        },
        {
          "output_type": "stream",
          "name": "stdout",
          "text": [
            "Volatilidade de EQTL3.SA: 28.19%\n"
          ]
        },
        {
          "output_type": "stream",
          "name": "stderr",
          "text": [
            "[*********************100%***********************]  1 of 1 completed\n",
            "[*********************100%***********************]  1 of 1 completed\n"
          ]
        },
        {
          "output_type": "stream",
          "name": "stdout",
          "text": [
            "Volatilidade de RENT3.SA: 40.99%\n",
            "Volatilidade de RDOR3.SA: 30.23%\n"
          ]
        },
        {
          "output_type": "stream",
          "name": "stderr",
          "text": [
            "\r[*********************100%***********************]  1 of 1 completed\n"
          ]
        },
        {
          "output_type": "stream",
          "name": "stdout",
          "text": [
            "Volatilidade de RADL3.SA: 25.58%\n"
          ]
        },
        {
          "output_type": "stream",
          "name": "stderr",
          "text": [
            "[*********************100%***********************]  1 of 1 completed\n",
            "[*********************100%***********************]  1 of 1 completed\n"
          ]
        },
        {
          "output_type": "stream",
          "name": "stdout",
          "text": [
            "Volatilidade de BRFS3.SA: 39.10%\n",
            "Volatilidade de RAIL3.SA: 25.73%\n"
          ]
        },
        {
          "output_type": "stream",
          "name": "stderr",
          "text": [
            "[*********************100%***********************]  1 of 1 completed\n",
            "[*********************100%***********************]  1 of 1 completed\n"
          ]
        },
        {
          "output_type": "stream",
          "name": "stdout",
          "text": [
            "Volatilidade de VBBR3.SA: 26.71%\n",
            "Volatilidade de ENEV3.SA: 23.38%\n"
          ]
        },
        {
          "output_type": "stream",
          "name": "stderr",
          "text": [
            "\r[*********************100%***********************]  1 of 1 completed\n"
          ]
        },
        {
          "output_type": "stream",
          "name": "stdout",
          "text": [
            "Volatilidade de CPLE6.SA: 20.57%\n"
          ]
        },
        {
          "output_type": "stream",
          "name": "stderr",
          "text": [
            "ERROR:yfinance:HTTP Error 404: \n",
            "[*********************100%***********************]  1 of 1 completed\n",
            "ERROR:yfinance:\n",
            "1 Failed download:\n",
            "ERROR:yfinance:['CCRO3.SA']: YFTzMissingError('possibly delisted; no timezone found')\n"
          ]
        },
        {
          "output_type": "stream",
          "name": "stdout",
          "text": [
            "Aviso: Não foi possível baixar dados para CCRO3.SA. Pulando.\n"
          ]
        },
        {
          "output_type": "stream",
          "name": "stderr",
          "text": [
            "\r[*********************100%***********************]  1 of 1 completed\n"
          ]
        },
        {
          "output_type": "stream",
          "name": "stdout",
          "text": [
            "Volatilidade de EGIE3.SA: 18.23%\n"
          ]
        },
        {
          "output_type": "stream",
          "name": "stderr",
          "text": [
            "[*********************100%***********************]  1 of 1 completed\n",
            "[*********************100%***********************]  1 of 1 completed\n"
          ]
        },
        {
          "output_type": "stream",
          "name": "stdout",
          "text": [
            "Volatilidade de CSNA3.SA: 38.29%\n",
            "Volatilidade de HYPE3.SA: 34.39%\n"
          ]
        },
        {
          "output_type": "stream",
          "name": "stderr",
          "text": [
            "[*********************100%***********************]  1 of 1 completed\n",
            "[*********************100%***********************]  1 of 1 completed\n"
          ]
        },
        {
          "output_type": "stream",
          "name": "stdout",
          "text": [
            "Volatilidade de CPFE3.SA: 19.22%\n",
            "Volatilidade de BEEF3.SA: 37.81%\n",
            "\n",
            "--- Resultados Finais ---\n"
          ]
        },
        {
          "output_type": "display_data",
          "data": {
            "text/plain": [
              "<pandas.io.formats.style.Styler at 0x7fc85586b690>"
            ],
            "text/html": [
              "<style type=\"text/css\">\n",
              "</style>\n",
              "<table id=\"T_d7fc3\" class=\"dataframe\">\n",
              "  <thead>\n",
              "    <tr>\n",
              "      <th class=\"blank level0\" >&nbsp;</th>\n",
              "      <th id=\"T_d7fc3_level0_col0\" class=\"col_heading level0 col0\" >Ação</th>\n",
              "      <th id=\"T_d7fc3_level0_col1\" class=\"col_heading level0 col1\" >Volatilidade Anual (%)</th>\n",
              "    </tr>\n",
              "  </thead>\n",
              "  <tbody>\n",
              "    <tr>\n",
              "      <th id=\"T_d7fc3_level0_row0\" class=\"row_heading level0 row0\" >6</th>\n",
              "      <td id=\"T_d7fc3_row0_col0\" class=\"data row0 col0\" >RENT3.SA</td>\n",
              "      <td id=\"T_d7fc3_row0_col1\" class=\"data row0 col1\" >40.99%</td>\n",
              "    </tr>\n",
              "    <tr>\n",
              "      <th id=\"T_d7fc3_level0_row1\" class=\"row_heading level0 row1\" >9</th>\n",
              "      <td id=\"T_d7fc3_row1_col0\" class=\"data row1 col0\" >BRFS3.SA</td>\n",
              "      <td id=\"T_d7fc3_row1_col1\" class=\"data row1 col1\" >39.10%</td>\n",
              "    </tr>\n",
              "    <tr>\n",
              "      <th id=\"T_d7fc3_level0_row2\" class=\"row_heading level0 row2\" >16</th>\n",
              "      <td id=\"T_d7fc3_row2_col0\" class=\"data row2 col0\" >CSNA3.SA</td>\n",
              "      <td id=\"T_d7fc3_row2_col1\" class=\"data row2 col1\" >38.29%</td>\n",
              "    </tr>\n",
              "    <tr>\n",
              "      <th id=\"T_d7fc3_level0_row3\" class=\"row_heading level0 row3\" >19</th>\n",
              "      <td id=\"T_d7fc3_row3_col0\" class=\"data row3 col0\" >BEEF3.SA</td>\n",
              "      <td id=\"T_d7fc3_row3_col1\" class=\"data row3 col1\" >37.81%</td>\n",
              "    </tr>\n",
              "    <tr>\n",
              "      <th id=\"T_d7fc3_level0_row4\" class=\"row_heading level0 row4\" >17</th>\n",
              "      <td id=\"T_d7fc3_row4_col0\" class=\"data row4 col0\" >HYPE3.SA</td>\n",
              "      <td id=\"T_d7fc3_row4_col1\" class=\"data row4 col1\" >34.39%</td>\n",
              "    </tr>\n",
              "    <tr>\n",
              "      <th id=\"T_d7fc3_level0_row5\" class=\"row_heading level0 row5\" >7</th>\n",
              "      <td id=\"T_d7fc3_row5_col0\" class=\"data row5 col0\" >RDOR3.SA</td>\n",
              "      <td id=\"T_d7fc3_row5_col1\" class=\"data row5 col1\" >30.23%</td>\n",
              "    </tr>\n",
              "    <tr>\n",
              "      <th id=\"T_d7fc3_level0_row6\" class=\"row_heading level0 row6\" >5</th>\n",
              "      <td id=\"T_d7fc3_row6_col0\" class=\"data row6 col0\" >EQTL3.SA</td>\n",
              "      <td id=\"T_d7fc3_row6_col1\" class=\"data row6 col1\" >28.19%</td>\n",
              "    </tr>\n",
              "    <tr>\n",
              "      <th id=\"T_d7fc3_level0_row7\" class=\"row_heading level0 row7\" >4</th>\n",
              "      <td id=\"T_d7fc3_row7_col0\" class=\"data row7 col0\" >SUZB3.SA</td>\n",
              "      <td id=\"T_d7fc3_row7_col1\" class=\"data row7 col1\" >28.09%</td>\n",
              "    </tr>\n",
              "    <tr>\n",
              "      <th id=\"T_d7fc3_level0_row8\" class=\"row_heading level0 row8\" >0</th>\n",
              "      <td id=\"T_d7fc3_row8_col0\" class=\"data row8 col0\" >BBDC4.SA</td>\n",
              "      <td id=\"T_d7fc3_row8_col1\" class=\"data row8 col1\" >28.04%</td>\n",
              "    </tr>\n",
              "    <tr>\n",
              "      <th id=\"T_d7fc3_level0_row9\" class=\"row_heading level0 row9\" >3</th>\n",
              "      <td id=\"T_d7fc3_row9_col0\" class=\"data row9 col0\" >B3SA3.SA</td>\n",
              "      <td id=\"T_d7fc3_row9_col1\" class=\"data row9 col1\" >27.77%</td>\n",
              "    </tr>\n",
              "    <tr>\n",
              "      <th id=\"T_d7fc3_level0_row10\" class=\"row_heading level0 row10\" >11</th>\n",
              "      <td id=\"T_d7fc3_row10_col0\" class=\"data row10 col0\" >VBBR3.SA</td>\n",
              "      <td id=\"T_d7fc3_row10_col1\" class=\"data row10 col1\" >26.71%</td>\n",
              "    </tr>\n",
              "    <tr>\n",
              "      <th id=\"T_d7fc3_level0_row11\" class=\"row_heading level0 row11\" >10</th>\n",
              "      <td id=\"T_d7fc3_row11_col0\" class=\"data row11 col0\" >RAIL3.SA</td>\n",
              "      <td id=\"T_d7fc3_row11_col1\" class=\"data row11 col1\" >25.73%</td>\n",
              "    </tr>\n",
              "    <tr>\n",
              "      <th id=\"T_d7fc3_level0_row12\" class=\"row_heading level0 row12\" >8</th>\n",
              "      <td id=\"T_d7fc3_row12_col0\" class=\"data row12 col0\" >RADL3.SA</td>\n",
              "      <td id=\"T_d7fc3_row12_col1\" class=\"data row12 col1\" >25.58%</td>\n",
              "    </tr>\n",
              "    <tr>\n",
              "      <th id=\"T_d7fc3_level0_row13\" class=\"row_heading level0 row13\" >2</th>\n",
              "      <td id=\"T_d7fc3_row13_col0\" class=\"data row13 col0\" >ELET3.SA</td>\n",
              "      <td id=\"T_d7fc3_row13_col1\" class=\"data row13 col1\" >23.91%</td>\n",
              "    </tr>\n",
              "    <tr>\n",
              "      <th id=\"T_d7fc3_level0_row14\" class=\"row_heading level0 row14\" >12</th>\n",
              "      <td id=\"T_d7fc3_row14_col0\" class=\"data row14 col0\" >ENEV3.SA</td>\n",
              "      <td id=\"T_d7fc3_row14_col1\" class=\"data row14 col1\" >23.38%</td>\n",
              "    </tr>\n",
              "    <tr>\n",
              "      <th id=\"T_d7fc3_level0_row15\" class=\"row_heading level0 row15\" >1</th>\n",
              "      <td id=\"T_d7fc3_row15_col0\" class=\"data row15 col0\" >SBSP3.SA</td>\n",
              "      <td id=\"T_d7fc3_row15_col1\" class=\"data row15 col1\" >23.19%</td>\n",
              "    </tr>\n",
              "    <tr>\n",
              "      <th id=\"T_d7fc3_level0_row16\" class=\"row_heading level0 row16\" >13</th>\n",
              "      <td id=\"T_d7fc3_row16_col0\" class=\"data row16 col0\" >CPLE6.SA</td>\n",
              "      <td id=\"T_d7fc3_row16_col1\" class=\"data row16 col1\" >20.57%</td>\n",
              "    </tr>\n",
              "    <tr>\n",
              "      <th id=\"T_d7fc3_level0_row17\" class=\"row_heading level0 row17\" >18</th>\n",
              "      <td id=\"T_d7fc3_row17_col0\" class=\"data row17 col0\" >CPFE3.SA</td>\n",
              "      <td id=\"T_d7fc3_row17_col1\" class=\"data row17 col1\" >19.22%</td>\n",
              "    </tr>\n",
              "    <tr>\n",
              "      <th id=\"T_d7fc3_level0_row18\" class=\"row_heading level0 row18\" >15</th>\n",
              "      <td id=\"T_d7fc3_row18_col0\" class=\"data row18 col0\" >EGIE3.SA</td>\n",
              "      <td id=\"T_d7fc3_row18_col1\" class=\"data row18 col1\" >18.23%</td>\n",
              "    </tr>\n",
              "    <tr>\n",
              "      <th id=\"T_d7fc3_level0_row19\" class=\"row_heading level0 row19\" >14</th>\n",
              "      <td id=\"T_d7fc3_row19_col0\" class=\"data row19 col0\" >CCRO3.SA</td>\n",
              "      <td id=\"T_d7fc3_row19_col1\" class=\"data row19 col1\" >Dados Indisponíveis</td>\n",
              "    </tr>\n",
              "  </tbody>\n",
              "</table>\n"
            ]
          },
          "metadata": {}
        }
      ]
    },
    {
      "cell_type": "code",
      "source": [
        "import matplotlib.pyplot as plt\n",
        "\n",
        "results_df.dropna().set_index('Ação')['Volatilidade Anual (%)'].sort_values().plot(kind='barh', figsize=(10, 8), color='skyblue')\n",
        "plt.title(\"Volatilidade Anualizada (2024) por Ação\")\n",
        "plt.xlabel(\"Volatilidade (%)\")\n",
        "plt.grid(True)\n",
        "plt.tight_layout()\n",
        "plt.show()"
      ],
      "metadata": {
        "colab": {
          "base_uri": "https://localhost:8080/",
          "height": 807
        },
        "id": "I3vknv0Rszra",
        "outputId": "4113dddd-ce2b-4c0d-b732-42f8e0ebe571"
      },
      "execution_count": null,
      "outputs": [
        {
          "output_type": "display_data",
          "data": {
            "text/plain": [
              "<Figure size 1000x800 with 1 Axes>"
            ],
            "image/png": "[encoded data removed]"
          },
          "metadata": {}
        }
      ]
    },
    {
      "cell_type": "markdown",
      "source": [
        "**Observação sobre CCRO3/MOTV3**: As ações da CCR passaram a ser negociadas como MOTV3 na B3 a partir de maio de 2025 devido à mudança de marca para Motiva Infraestrutura de Mobilidade ([Fonte: Estadão E-investidor](https://einvestidor.estadao.com.br/ultimas/ccr-ccro3-novo-nome-ticker-b3/)). Como o Yahoo Finance não integrou os dados históricos entre os tickers, tornando a série temporal incompleta, a ação foi excluída desta análise."
      ],
      "metadata": {
        "id": "lMTioFWicSXn"
      }
    },
    {
      "cell_type": "markdown",
      "source": [
        "**2. Calcule a volatilidade de um portfólio distribuído igualmente, com 5% em cada uma das ações apresentadas.**"
      ],
      "metadata": {
        "id": "5uF4oKZLcW9M"
      }
    },
    {
      "cell_type": "markdown",
      "source": [
        "Em sua Teoria Moderna do Portfólio, Markowitz (1952) destacou a importância do comportamento conjunto dos ativos em um portfólio. O conceito central, conhecido como *Mean-Variance Portfolio*, evidencia que a diversificação permite maximizar o retorno esperado dado um nível de risco, ou minimizar o risco dado um nível de retorno.\n",
        "\n",
        "O risco esperado do portfólio, expresso pela variância dos retornos, é calculado pela seguinte equação:\n",
        "\n",
        "$$\n",
        "\\sigma_p^2 = \\sum_{i=1}^{N} w_i^2 \\sigma_i^2 + \\sum_{i=1}^{N} \\sum_{\\substack{j=1 \\\\ j \\ne i}}^{N} w_i w_j \\sigma_{ij}\n",
        "$$\n",
        "\n",
        "Onde:\n",
        "\n",
        "- $ \\sigma_p^2 $: variância do portfólio  \n",
        "- $ w_i $: peso do ativo $( i $) no portfólio  \n",
        "- $ \\sigma_i^2 $: variância do ativo $( i $)  \n",
        "- $ \\sigma_{ij} $: covariância entre os ativos $( i $) e $( j $)  \n",
        "- $ N $: número de ativos no portfólio\n",
        "\n",
        "A **volatilidade do portfólio** é obtida como a raiz quadrada da variância: $\\sigma_p = \\sqrt{\\sigma_p^2} $\n",
        "\n",
        "Na sua forma matricial, temos:\n",
        "\n",
        "$$\n",
        "\\sigma_p^2 = \\mathbf{w}^\\top \\cdot \\Sigma \\cdot \\mathbf{w}\n",
        "$$\n",
        "\n",
        "Onde:\n",
        "- $\\mathbf{w}$: vetor coluna de pesos do portfólio  \n",
        "- $\\Sigma$: matriz de covariância dos ativos  \n",
        "- $\\mathbf{w}^\\top$: transposta do vetor de pesos  \n",
        "\n",
        "Observação: como pontuado anteriormente, a série histórica do ticker `CCRO3` não está disponível, devido a uma alteração no código da empresa. Dessa forma, os pesos foram igualmente redistribuídos entre as 19 ações plenamente analisadas."
      ],
      "metadata": {
        "id": "wHbtnUXFwNSA"
      }
    },
    {
      "cell_type": "code",
      "source": [
        "import yfinance as yf\n",
        "import pandas as pd\n",
        "import numpy as np\n",
        "\n",
        "# Lista de tickers das ações\n",
        "tickers = [\n",
        "    \"BBDC4.SA\", \"SBSP3.SA\", \"ELET3.SA\", \"B3SA3.SA\", \"SUZB3.SA\",\n",
        "    \"EQTL3.SA\", \"RENT3.SA\", \"RDOR3.SA\", \"RADL3.SA\", \"BRFS3.SA\",\n",
        "    \"RAIL3.SA\", \"VBBR3.SA\", \"ENEV3.SA\", \"CPLE6.SA\", \"CCRO3.SA\",\n",
        "    \"EGIE3.SA\", \"CSNA3.SA\", \"HYPE3.SA\", \"CPFE3.SA\", \"BEEF3.SA\"\n",
        "]\n",
        "\n",
        "# Período de análise\n",
        "start_date = \"2023-12-31\"\n",
        "end_date = \"2024-12-31\"\n",
        "\n",
        "# Baixar todos os dados de uma vez\n",
        "all_data = yf.download(tickers, start=start_date, end=end_date, auto_adjust=True)['Close']\n",
        "\n",
        "# Remover ações com dados faltantes\n",
        "valid_tickers = all_data.columns[~all_data.isnull().all()]\n",
        "all_data = all_data[valid_tickers]\n",
        "\n",
        "if len(valid_tickers) == 0:\n",
        "    print(\"Erro: Nenhum dado válido encontrado para cálculo do portfólio.\")\n",
        "else:\n",
        "    print(f\"\\nAções válidas para cálculo do portfólio ({len(valid_tickers)}):\")\n",
        "    print(list(valid_tickers))\n",
        "\n",
        "    # Calcular retornos logarítmicos\n",
        "    returns = np.log(all_data / all_data.shift(1)).dropna()\n",
        "\n",
        "    # Definir pesos iguais (ajustado para número de ações válidas)\n",
        "    weights = np.array([1/len(valid_tickers)] * len(valid_tickers))\n",
        "\n",
        "    # Calcular matriz de covariância anualizada\n",
        "    cov_matrix_annual = returns.cov() * 252\n",
        "\n",
        "    # Calcular variância e volatilidade do portfólio\n",
        "    portfolio_variance = np.dot(weights.T, np.dot(cov_matrix_annual, weights))\n",
        "    portfolio_volatility = np.sqrt(portfolio_variance) * 100\n",
        "\n",
        "    print(f\"\\n--- Resultado do Portfólio ---\")\n",
        "    print(f\"\\n✓ Volatilidade Anual do Portfólio (pesos iguais): {portfolio_volatility:.2f}%\")\n",
        "    print(f\"↪ {len(valid_tickers)} ações válidas com {weights[0]*100:.3f}% alocado em cada\")"
      ],
      "metadata": {
        "colab": {
          "base_uri": "https://localhost:8080/"
        },
        "id": "76kmZajVfz5Q",
        "outputId": "a2a4b516-06f9-442c-ae77-251a066701b3"
      },
      "execution_count": null,
      "outputs": [
        {
          "output_type": "stream",
          "name": "stderr",
          "text": [
            "[**********************80%*************          ]  16 of 20 completedERROR:yfinance:HTTP Error 404: \n",
            "[*********************100%***********************]  20 of 20 completed\n",
            "ERROR:yfinance:\n",
            "1 Failed download:\n",
            "ERROR:yfinance:['CCRO3.SA']: YFTzMissingError('possibly delisted; no timezone found')\n"
          ]
        },
        {
          "output_type": "stream",
          "name": "stdout",
          "text": [
            "\n",
            "Ações válidas para cálculo do portfólio (19):\n",
            "['B3SA3.SA', 'BBDC4.SA', 'BEEF3.SA', 'BRFS3.SA', 'CPFE3.SA', 'CPLE6.SA', 'CSNA3.SA', 'EGIE3.SA', 'ELET3.SA', 'ENEV3.SA', 'EQTL3.SA', 'HYPE3.SA', 'RADL3.SA', 'RAIL3.SA', 'RDOR3.SA', 'RENT3.SA', 'SBSP3.SA', 'SUZB3.SA', 'VBBR3.SA']\n",
            "\n",
            "--- Resultado do Portfólio ---\n",
            "\n",
            "✓ Volatilidade Anual do Portfólio (pesos iguais): 15.98%\n",
            "↪ 19 ações válidas com 5.263% alocado em cada\n"
          ]
        }
      ]
    },
    {
      "cell_type": "markdown",
      "source": [
        "**3. Calcule a alocação ideal em cada uma das ações para construir um portfólio com a menor volatilidade possível, onde cada ação pode ter no mínimo 0% de alocação e no máximo 10% de alocação. Além disso, qual o valor dessa volatilidade mínima?**"
      ],
      "metadata": {
        "id": "qDPCNI_QkSog"
      }
    },
    {
      "cell_type": "markdown",
      "source": [
        "A otimização de portfólio busca determinar a alocação ótima de ativos que minimize o risco total (volatilidade) do portfólio, respeitando restrições pré-definidas, como limites mínimos e máximos por ativo, bem como a soma total das alocações. Conforme demonstrado por Markowitz (1952), o risco de um portfólio não é a média ponderada das volatilidades individuais, mas sim uma função da variância e das covariâncias entre os ativos. Portanto, o problema de otimização pode ser formulado da seguinte maneira:\n",
        "\n",
        "$$\n",
        "\\begin{aligned}\n",
        "&\\min_{\\mathbf{w}} \\quad && \\sigma_p^2 = \\sqrt{\\mathbf{w}^\\top \\cdot \\Sigma \\cdot \\mathbf{w}} \\\\\n",
        "&\\text{sujeito a} \\quad && \\sum_{i=1}^{N} w_i = 1 \\\\\n",
        "&&& 0 \\leq w_i \\leq 0{,}10, \\quad \\forall i = 1, \\dots, N\n",
        "\\end{aligned}\n",
        "$$\n",
        "\n",
        "**Onde:**\n",
        "- $w_i$: peso (alocação) do ativo $i$ no portfólio  \n",
        "- $\\sigma_i^2$: variância dos retornos do ativo $i$  \n",
        "- $\\sigma_{ij}$: covariância entre os retornos dos ativos $i$ e $j$  \n",
        "- $\\sigma_p$: volatilidade do portfólio"
      ],
      "metadata": {
        "id": "MIC0yB9Kz85B"
      }
    },
    {
      "cell_type": "code",
      "source": [
        "import yfinance as yf\n",
        "import numpy as np\n",
        "import pandas as pd\n",
        "from scipy.optimize import minimize\n",
        "\n",
        "# Lista de tickers\n",
        "tickers = [\n",
        "    \"BBDC4.SA\", \"SBSP3.SA\", \"ELET3.SA\", \"B3SA3.SA\", \"SUZB3.SA\",\n",
        "    \"EQTL3.SA\", \"RENT3.SA\", \"RDOR3.SA\", \"RADL3.SA\", \"BRFS3.SA\",\n",
        "    \"RAIL3.SA\", \"VBBR3.SA\", \"ENEV3.SA\", \"CPLE6.SA\", \"CCRO3.SA\",\n",
        "    \"EGIE3.SA\", \"CSNA3.SA\", \"HYPE3.SA\", \"CPFE3.SA\", \"BEEF3.SA\"\n",
        "]\n",
        "\n",
        "# Período de análise\n",
        "start_date = \"2023-12-31\"\n",
        "end_date = \"2024-12-31\"\n",
        "\n",
        "# Baixar dados de preços ajustados de fechamento\n",
        "all_data = yf.download(tickers, start=start_date, end=end_date, auto_adjust=True)['Close']\n",
        "\n",
        "# Remover ativos com todos os valores faltantes\n",
        "valid_tickers = all_data.columns[~all_data.isnull().all()].tolist()\n",
        "all_data = all_data[valid_tickers]\n",
        "\n",
        "# Calcular retornos logarítmicos diários\n",
        "returns = np.log(all_data / all_data.shift(1)).dropna()\n",
        "\n",
        "# Matriz de covariância anualizada\n",
        "cov_matrix = returns.cov() * 252\n",
        "\n",
        "# Função objetivo: volatilidade do portfólio\n",
        "def portfolio_volatility(weights):\n",
        "    return np.sqrt(np.dot(weights.T, np.dot(cov_matrix.values, weights)))\n",
        "\n",
        "# Restrições: soma dos pesos = 1\n",
        "constraints = (\n",
        "    {'type': 'eq',\n",
        "     'fun': lambda x: np.sum(x) - 1},)\n",
        "\n",
        "# Limites: cada ativo pode ter entre 0% e 10% de alocação\n",
        "bounds = tuple((0, 0.10) for _ in range(len(valid_tickers)))\n",
        "\n",
        "# Pesos iniciais (iguais)\n",
        "initial_weights = np.array([1/len(valid_tickers)] * len(valid_tickers))\n",
        "\n",
        "# Rodar a otimização\n",
        "result = minimize(\n",
        "    portfolio_volatility,\n",
        "    initial_weights, # Ponto de Partida\n",
        "    method='SLSQP', # Sequential Least Squares Programming\n",
        "    bounds=bounds,\n",
        "    constraints=constraints\n",
        ")\n",
        "\n",
        "# Exibir resultados\n",
        "if not result.success:\n",
        "    print(\"⚠️ Otimização não convergiu:\", result.message)\n",
        "else:\n",
        "    optimal_weights = result.x\n",
        "    min_volatility = result.fun * 100  # em %\n",
        "\n",
        "    weights_df = pd.DataFrame({\n",
        "        'Ação': valid_tickers,\n",
        "        'Alocação Ótima (%)': (optimal_weights * 100).round(2)\n",
        "    })\n",
        "\n",
        "    print(\"\\n--- Alocação Ótima para Mínima Volatilidade (0% ≤ peso ≤ 10%) ---\")\n",
        "    print(weights_df.sort_values(by='Alocação Ótima (%)', ascending=False))\n",
        "    print(f\"\\nVolatilidade Mínima do Portfólio: {min_volatility:.2f}%\")\n"
      ],
      "metadata": {
        "colab": {
          "base_uri": "https://localhost:8080/"
        },
        "id": "ulH49ALO260u",
        "outputId": "8e7fef21-8c07-4cf8-8bf7-f06819d6078c"
      },
      "execution_count": null,
      "outputs": [
        {
          "output_type": "stream",
          "name": "stderr",
          "text": [
            "[*********************100%***********************]  20 of 20 completed\n",
            "ERROR:yfinance:\n",
            "1 Failed download:\n",
            "ERROR:yfinance:['CCRO3.SA']: YFTzMissingError('possibly delisted; no timezone found')\n"
          ]
        },
        {
          "output_type": "stream",
          "name": "stdout",
          "text": [
            "\n",
            "--- Alocação Ótima para Mínima Volatilidade (0% ≤ peso ≤ 10%) ---\n",
            "        Ação  Alocação Ótima (%)\n",
            "7   EGIE3.SA               10.00\n",
            "5   CPLE6.SA               10.00\n",
            "4   CPFE3.SA               10.00\n",
            "16  SBSP3.SA               10.00\n",
            "17  SUZB3.SA               10.00\n",
            "12  RADL3.SA               10.00\n",
            "1   BBDC4.SA                9.48\n",
            "9   ENEV3.SA                8.71\n",
            "13  RAIL3.SA                5.38\n",
            "11  HYPE3.SA                4.36\n",
            "3   BRFS3.SA                3.89\n",
            "18  VBBR3.SA                3.26\n",
            "8   ELET3.SA                2.77\n",
            "6   CSNA3.SA                2.17\n",
            "0   B3SA3.SA                0.00\n",
            "2   BEEF3.SA                0.00\n",
            "10  EQTL3.SA                0.00\n",
            "14  RDOR3.SA                0.00\n",
            "15  RENT3.SA                0.00\n",
            "\n",
            "Volatilidade Mínima do Portfólio: 13.59%\n"
          ]
        }
      ]
    },
    {
      "cell_type": "markdown",
      "source": [
        "**4. Calcule a alocação de cada uma das ações para construir um portfólio com o maior sharpe (Retorno do Período/Volatilidade do Período) possível, onde cada ação pode ter no mínimo 0% de alocação e no máximo 10% de alocação. Além disso, qual o valor desse sharpe? E qual a volatilidade dessa alocação?**"
      ],
      "metadata": {
        "id": "TL_0ZHQll4k9"
      }
    },
    {
      "cell_type": "markdown",
      "source": [
        "Para encontrar a alocação ótima de um portfólio composto por 20 ações brasileiras, de forma a **maximizar o Índice de Sharpe**, respeitando restrições de alocação mínima e máxima por ativo, adotamos os seguintes conceitos:\n",
        "\n",
        "- **Índice de Sharpe**: retorno excedente por unidade de risco do portfólio:\n",
        "\n",
        "  $$\n",
        "  \\text{Sharpe} = \\frac{R_p - R_f}{\\sigma_p}\n",
        "  $$\n",
        "\n",
        "    Onde:\n",
        "\n",
        "    - $R_p$: retorno esperado do portfólio  \n",
        "    - $R_f$: taxa livre de risco  \n",
        "    - $\\sigma_p$: volatilidade (desvio padrão) do portfólio  \n",
        "\n",
        "- **Volatilidade do Portfólio**:\n",
        "  $$\n",
        "  \\sigma_p = \\sqrt{\\mathbf{w}^\\top \\Sigma \\mathbf{w}}\n",
        "  $$\n",
        "\n",
        "- **Formulação do Problema de Otimização**:\n",
        "\n",
        "**Maximizar:**\n",
        "\n",
        "$$\n",
        "\\max_{\\mathbf{w}} \\ \\frac{\\mathbf{w}^\\top \\bar{r} - r_f}{\\sqrt{\\mathbf{w}^\\top \\Sigma \\mathbf{w}}}\n",
        "$$\n",
        "\n",
        "  **Sujeito a:**\n",
        "\n",
        "  $$\n",
        "  \\sum_{i=1}^{N} w_i = 1\n",
        "  \\quad \\text{e} \\quad\n",
        "  0 \\leq w_i \\leq 0{,}10, \\quad \\forall i = 1, \\dots, N\n",
        "  $$\n",
        "\n",
        "  - Onde:\n",
        "    - $\\mathbf{w}$: vetor de pesos dos ativos  \n",
        "    - $\\bar{r}$: vetor de retornos esperados  \n",
        "    - $r_f$: taxa livre de risco  \n",
        "    - $\\Sigma$: matriz de covariância dos retornos  \n",
        "    - $\\mathbf{w}^\\top \\Sigma \\mathbf{w}$: variância do portfólio  "
      ],
      "metadata": {
        "id": "iB2jrf5vYMmK"
      }
    },
    {
      "cell_type": "markdown",
      "source": [
        "Para calcular a taxa livre de risco da economia brasileira ($R_f$) iremos calcular a taxa SELIC média para o período analisado:"
      ],
      "metadata": {
        "id": "L-t3cW7zS6YK"
      }
    },
    {
      "cell_type": "code",
      "source": [
        "import pandas as pd\n",
        "import matplotlib.pyplot as plt\n",
        "\n",
        "# Série SELIC efetiva - Código 1178\n",
        "selic_url = \"https://api.bcb.gov.br/dados/serie/bcdata.sgs.1178/dados?formato=csv&dataInicial=31/12/2023&dataFinal=31/12/2024\"\n",
        "\n",
        "# Baixar os dados, especificando o separador e o decimal\n",
        "selic_df = pd.read_csv(selic_url, sep=';', decimal=',', parse_dates=['data'], dayfirst=True)\n",
        "\n",
        "# Renomear colunas\n",
        "selic_df.columns = ['Data', 'SELIC']\n",
        "\n",
        "# Converter a coluna SELIC para tipo numérico\n",
        "selic_df['SELIC'] = pd.to_numeric(selic_df['SELIC'], errors='coerce')\n",
        "\n",
        "# Filtrar intervalo desejado\n",
        "start_date = \"2023-12-31\"\n",
        "end_date = \"2024-12-31\"\n",
        "selic_df = selic_df[(selic_df['Data'] >= start_date) & (selic_df['Data'] <= end_date)]\n",
        "\n",
        "# Plotar a taxa SELIC\n",
        "plt.figure(figsize=(12, 6))\n",
        "plt.plot(selic_df['Data'], selic_df['SELIC'], label=\"SELIC diária\", color='green')\n",
        "plt.title(\"Taxa SELIC Efetiva Diária (2023-2024)\")\n",
        "plt.xlabel(\"Data\")\n",
        "plt.ylabel(\"Taxa (%)\")\n",
        "plt.grid()\n",
        "plt.legend()\n",
        "plt.show()\n",
        "\n",
        "# ===== CÁLCULOS DE MÉDIAS =====\n",
        "\n",
        "# Média aritmética simples (todos os dias)\n",
        "selic_mean = selic_df['SELIC'].mean()\n",
        "print(f\"Média aritmética simples da SELIC (2023-2024): {selic_mean:.2f}%\")\n",
        "\n",
        "# Agrupar por ano e tirar a média anual\n",
        "selic_df.set_index('Data', inplace=True)\n",
        "selic_annual_avg = selic_df.resample('YE').mean()\n",
        "selic_weighted_avg = selic_annual_avg['SELIC'].mean()\n",
        "\n",
        "print(f\"Média das médias anuais da SELIC (peso igual por ano): {selic_weighted_avg:.2f}%\")"
      ],
      "metadata": {
        "colab": {
          "base_uri": "https://localhost:8080/",
          "height": 600
        },
        "id": "9QGocBLtTJKW",
        "outputId": "c5187c91-9c53-49a3-b67c-711da41b1e5a"
      },
      "execution_count": null,
      "outputs": [
        {
          "output_type": "display_data",
          "data": {
            "text/plain": [
              "<Figure size 1200x600 with 1 Axes>"
            ],
            "image/png": "[encoded data removed]"
          },
          "metadata": {}
        },
        {
          "output_type": "stream",
          "name": "stdout",
          "text": [
            "Média aritmética simples da SELIC (2023-2024): 10.83%\n",
            "Média das médias anuais da SELIC (peso igual por ano): 10.83%\n"
          ]
        }
      ]
    },
    {
      "cell_type": "markdown",
      "source": [
        "Desse modo, ao **maximizar o Índice de Sharpe dentro das restrições de alocação**, obtemos um portfólio otimizado que busca o melhor trade-off entre risco e retorno."
      ],
      "metadata": {
        "id": "L7RJnC9QXZZW"
      }
    },
    {
      "cell_type": "code",
      "source": [
        "import yfinance as yf\n",
        "import numpy as np\n",
        "import pandas as pd\n",
        "from scipy.optimize import minimize\n",
        "import matplotlib.pyplot as plt\n",
        "\n",
        "# Lista de tickers\n",
        "tickers = [\n",
        "    \"BBDC4.SA\", \"SBSP3.SA\", \"ELET3.SA\", \"B3SA3.SA\", \"SUZB3.SA\",\n",
        "    \"EQTL3.SA\", \"RENT3.SA\", \"RDOR3.SA\", \"RADL3.SA\", \"BRFS3.SA\",\n",
        "    \"RAIL3.SA\", \"VBBR3.SA\", \"ENEV3.SA\", \"CPLE6.SA\", \"CCRO3.SA\",\n",
        "    \"EGIE3.SA\", \"CSNA3.SA\", \"HYPE3.SA\", \"CPFE3.SA\", \"BEEF3.SA\"\n",
        "]\n",
        "\n",
        "start_date = \"2023-12-31\"\n",
        "end_date = \"2024-12-31\"\n",
        "\n",
        "# Baixar preços ajustados de fechamento\n",
        "all_data = yf.download(tickers, start=start_date, end=end_date, auto_adjust=True)['Close']\n",
        "\n",
        "# Remover colunas com dados faltantes\n",
        "all_data = all_data.dropna(axis=1)\n",
        "valid_tickers = all_data.columns.tolist()\n",
        "\n",
        "# Calcular retornos logarítmicos diários\n",
        "returns = np.log(all_data / all_data.shift(1)).dropna()\n",
        "\n",
        "# Retorno médio anual e matriz de covariância anualizada\n",
        "mean_returns = returns.mean() * 252\n",
        "cov_matrix = returns.cov() * 252\n",
        "\n",
        "# Taxa livre de risco anual\n",
        "risk_free_rate = selic_mean/100\n",
        "\n",
        "# Função objetivo: negativo do índice de Sharpe (p/ minimização)\n",
        "def negative_sharpe(weights):\n",
        "    port_return = np.dot(weights, mean_returns)\n",
        "    port_volatility = np.sqrt(np.dot(weights.T, np.dot(cov_matrix, weights)))\n",
        "    sharpe_ratio = (port_return - risk_free_rate) / port_volatility\n",
        "    return -sharpe_ratio\n",
        "\n",
        "# Restrições: soma dos pesos = 1\n",
        "constraints = {'type': 'eq',\n",
        "               'fun': lambda x: np.sum(x) - 1}\n",
        "\n",
        "# Limites: 0% ≤ peso ≤ 10%\n",
        "bounds = tuple((0, 0.1) for _ in range(len(valid_tickers)))\n",
        "\n",
        "# Pesos iniciais iguais\n",
        "initial_weights = np.array([1 / len(valid_tickers)] * len(valid_tickers))\n",
        "\n",
        "# Otimização\n",
        "result = minimize(\n",
        "    negative_sharpe,\n",
        "    initial_weights,\n",
        "    method='SLSQP',\n",
        "    bounds=bounds,\n",
        "    constraints=constraints\n",
        ")\n",
        "\n",
        "if not result.success:\n",
        "    print(\"Otimização falhou:\", result.message)\n",
        "else:\n",
        "    optimal_weights = result.x\n",
        "    optimal_sharpe = -result.fun\n",
        "    portfolio_return = np.dot(optimal_weights, mean_returns)\n",
        "    portfolio_volatility = np.sqrt(np.dot(optimal_weights.T, np.dot(cov_matrix, optimal_weights)))\n",
        "\n",
        "    weights_df = pd.DataFrame({\n",
        "        'Ação': valid_tickers,\n",
        "        'Alocação Ótima (%)': (optimal_weights * 100).round(2)\n",
        "    }).sort_values(by='Alocação Ótima (%)', ascending=False)\n",
        "\n",
        "    print(\"\\n--- Alocação Ótima para Máximo Índice de Sharpe (0% ≤ peso ≤ 10%) ---\")\n",
        "    display(weights_df)\n",
        "\n",
        "    print(f\"\\nRetorno Anual do Portfólio: {portfolio_return * 100:.2f}%\")\n",
        "    print(f\"Volatilidade Anual do Portfólio: {portfolio_volatility * 100:.2f}%\")\n",
        "    print(f\"Índice de Sharpe: {optimal_sharpe:.4f}\")\n"
      ],
      "metadata": {
        "colab": {
          "base_uri": "https://localhost:8080/",
          "height": 824
        },
        "id": "jhNsJx8j4T01",
        "outputId": "086151c5-5e3c-45f4-a331-1acee76ac5ca"
      },
      "execution_count": null,
      "outputs": [
        {
          "output_type": "stream",
          "name": "stderr",
          "text": [
            "[*********************100%***********************]  20 of 20 completed\n",
            "ERROR:yfinance:\n",
            "1 Failed download:\n",
            "ERROR:yfinance:['CCRO3.SA']: YFTzMissingError('possibly delisted; no timezone found')\n"
          ]
        },
        {
          "output_type": "stream",
          "name": "stdout",
          "text": [
            "\n",
            "--- Alocação Ótima para Máximo Índice de Sharpe (0% ≤ peso ≤ 10%) ---\n"
          ]
        },
        {
          "output_type": "display_data",
          "data": {
            "text/plain": [
              "        Ação  Alocação Ótima (%)\n",
              "8   ELET3.SA                10.0\n",
              "5   CPLE6.SA                10.0\n",
              "3   BRFS3.SA                10.0\n",
              "18  VBBR3.SA                10.0\n",
              "16  SBSP3.SA                10.0\n",
              "13  RAIL3.SA                10.0\n",
              "7   EGIE3.SA                10.0\n",
              "10  EQTL3.SA                10.0\n",
              "17  SUZB3.SA                10.0\n",
              "14  RDOR3.SA                10.0\n",
              "0   B3SA3.SA                 0.0\n",
              "2   BEEF3.SA                 0.0\n",
              "1   BBDC4.SA                 0.0\n",
              "4   CPFE3.SA                 0.0\n",
              "6   CSNA3.SA                 0.0\n",
              "9   ENEV3.SA                 0.0\n",
              "12  RADL3.SA                 0.0\n",
              "11  HYPE3.SA                 0.0\n",
              "15  RENT3.SA                 0.0"
            ],
            "text/html": [
              "\n",
              "  <div id=\"df-7a7d8d88-d70b-4d82-9357-34e1339e60a9\" class=\"colab-df-container\">\n",
              "    <div>\n",
              "<style scoped>\n",
              "    .dataframe tbody tr th:only-of-type {\n",
              "        vertical-align: middle;\n",
              "    }\n",
              "\n",
              "    .dataframe tbody tr th {\n",
              "        vertical-align: top;\n",
              "    }\n",
              "\n",
              "    .dataframe thead th {\n",
              "        text-align: right;\n",
              "    }\n",
              "</style>\n",
              "<table border=\"1\" class=\"dataframe\">\n",
              "  <thead>\n",
              "    <tr style=\"text-align: right;\">\n",
              "      <th></th>\n",
              "      <th>Ação</th>\n",
              "      <th>Alocação Ótima (%)</th>\n",
              "    </tr>\n",
              "  </thead>\n",
              "  <tbody>\n",
              "    <tr>\n",
              "      <th>8</th>\n",
              "      <td>ELET3.SA</td>\n",
              "      <td>10.0</td>\n",
              "    </tr>\n",
              "    <tr>\n",
              "      <th>5</th>\n",
              "      <td>CPLE6.SA</td>\n",
              "      <td>10.0</td>\n",
              "    </tr>\n",
              "    <tr>\n",
              "      <th>3</th>\n",
              "      <td>BRFS3.SA</td>\n",
              "      <td>10.0</td>\n",
              "    </tr>\n",
              "    <tr>\n",
              "      <th>18</th>\n",
              "      <td>VBBR3.SA</td>\n",
              "      <td>10.0</td>\n",
              "    </tr>\n",
              "    <tr>\n",
              "      <th>16</th>\n",
              "      <td>SBSP3.SA</td>\n",
              "      <td>10.0</td>\n",
              "    </tr>\n",
              "    <tr>\n",
              "      <th>13</th>\n",
              "      <td>RAIL3.SA</td>\n",
              "      <td>10.0</td>\n",
              "    </tr>\n",
              "    <tr>\n",
              "      <th>7</th>\n",
              "      <td>EGIE3.SA</td>\n",
              "      <td>10.0</td>\n",
              "    </tr>\n",
              "    <tr>\n",
              "      <th>10</th>\n",
              "      <td>EQTL3.SA</td>\n",
              "      <td>10.0</td>\n",
              "    </tr>\n",
              "    <tr>\n",
              "      <th>17</th>\n",
              "      <td>SUZB3.SA</td>\n",
              "      <td>10.0</td>\n",
              "    </tr>\n",
              "    <tr>\n",
              "      <th>14</th>\n",
              "      <td>RDOR3.SA</td>\n",
              "      <td>10.0</td>\n",
              "    </tr>\n",
              "    <tr>\n",
              "      <th>0</th>\n",
              "      <td>B3SA3.SA</td>\n",
              "      <td>0.0</td>\n",
              "    </tr>\n",
              "    <tr>\n",
              "      <th>2</th>\n",
              "      <td>BEEF3.SA</td>\n",
              "      <td>0.0</td>\n",
              "    </tr>\n",
              "    <tr>\n",
              "      <th>1</th>\n",
              "      <td>BBDC4.SA</td>\n",
              "      <td>0.0</td>\n",
              "    </tr>\n",
              "    <tr>\n",
              "      <th>4</th>\n",
              "      <td>CPFE3.SA</td>\n",
              "      <td>0.0</td>\n",
              "    </tr>\n",
              "    <tr>\n",
              "      <th>6</th>\n",
              "      <td>CSNA3.SA</td>\n",
              "      <td>0.0</td>\n",
              "    </tr>\n",
              "    <tr>\n",
              "      <th>9</th>\n",
              "      <td>ENEV3.SA</td>\n",
              "      <td>0.0</td>\n",
              "    </tr>\n",
              "    <tr>\n",
              "      <th>12</th>\n",
              "      <td>RADL3.SA</td>\n",
              "      <td>0.0</td>\n",
              "    </tr>\n",
              "    <tr>\n",
              "      <th>11</th>\n",
              "      <td>HYPE3.SA</td>\n",
              "      <td>0.0</td>\n",
              "    </tr>\n",
              "    <tr>\n",
              "      <th>15</th>\n",
              "      <td>RENT3.SA</td>\n",
              "      <td>0.0</td>\n",
              "    </tr>\n",
              "  </tbody>\n",
              "</table>\n",
              "</div>\n",
              "    <div class=\"colab-df-buttons\">\n",
              "\n",
              "  <div class=\"colab-df-container\">\n",
              "    <button class=\"colab-df-convert\" onclick=\"convertToInteractive('df-7a7d8d88-d70b-4d82-9357-34e1339e60a9')\"\n",
              "            title=\"Convert this dataframe to an interactive table.\"\n",
              "            style=\"display:none;\">\n",
              "\n",
              "  <svg xmlns=\"http://www.w3.org/2000/svg\" height=\"24px\" viewBox=\"0 -960 960 960\">\n",
              "    <path d=\"M120-120v-720h720v720H120Zm60-500h600v-160H180v160Zm220 220h160v-160H400v160Zm0 220h160v-160H400v160ZM180-400h160v-160H180v160Zm440 0h160v-160H620v160ZM180-180h160v-160H180v160Zm440 0h160v-160H620v160Z\"/>\n",
              "  </svg>\n",
              "    </button>\n",
              "\n",
              "  <style>\n",
              "    .colab-df-container {\n",
              "      display:flex;\n",
              "      gap: 12px;\n",
              "    }\n",
              "\n",
              "    .colab-df-convert {\n",
              "      background-color: #E8F0FE;\n",
              "      border: none;\n",
              "      border-radius: 50%;\n",
              "      cursor: pointer;\n",
              "      display: none;\n",
              "      fill: #1967D2;\n",
              "      height: 32px;\n",
              "      padding: 0 0 0 0;\n",
              "      width: 32px;\n",
              "    }\n",
              "\n",
              "    .colab-df-convert:hover {\n",
              "      background-color: #E2EBFA;\n",
              "      box-shadow: 0px 1px 2px rgba(60, 64, 67, 0.3), 0px 1px 3px 1px rgba(60, 64, 67, 0.15);\n",
              "      fill: #174EA6;\n",
              "    }\n",
              "\n",
              "    .colab-df-buttons div {\n",
              "      margin-bottom: 4px;\n",
              "    }\n",
              "\n",
              "    [theme=dark] .colab-df-convert {\n",
              "      background-color: #3B4455;\n",
              "      fill: #D2E3FC;\n",
              "    }\n",
              "\n",
              "    [theme=dark] .colab-df-convert:hover {\n",
              "      background-color: #434B5C;\n",
              "      box-shadow: 0px 1px 3px 1px rgba(0, 0, 0, 0.15);\n",
              "      filter: drop-shadow(0px 1px 2px rgba(0, 0, 0, 0.3));\n",
              "      fill: #FFFFFF;\n",
              "    }\n",
              "  </style>\n",
              "\n",
              "    <script>\n",
              "      const buttonEl =\n",
              "        document.querySelector('#df-7a7d8d88-d70b-4d82-9357-34e1339e60a9 button.colab-df-convert');\n",
              "      buttonEl.style.display =\n",
              "        google.colab.kernel.accessAllowed ? 'block' : 'none';\n",
              "\n",
              "      async function convertToInteractive(key) {\n",
              "        const element = document.querySelector('#df-7a7d8d88-d70b-4d82-9357-34e1339e60a9');\n",
              "        const dataTable =\n",
              "          await google.colab.kernel.invokeFunction('convertToInteractive',\n",
              "                                                    [key], {});\n",
              "        if (!dataTable) return;\n",
              "\n",
              "        const docLinkHtml = 'Like what you see? Visit the ' +\n",
              "          '<a target=\"_blank\" href=https://colab.research.google.com/notebooks/data_table.ipynb>data table notebook</a>'\n",
              "          + ' to learn more about interactive tables.';\n",
              "        element.innerHTML = '';\n",
              "        dataTable['output_type'] = 'display_data';\n",
              "        await google.colab.output.renderOutput(dataTable, element);\n",
              "        const docLink = document.createElement('div');\n",
              "        docLink.innerHTML = docLinkHtml;\n",
              "        element.appendChild(docLink);\n",
              "      }\n",
              "    </script>\n",
              "  </div>\n",
              "\n",
              "\n",
              "    <div id=\"df-380a8d78-c2c4-4688-a267-5b54ad144b77\">\n",
              "      <button class=\"colab-df-quickchart\" onclick=\"quickchart('df-380a8d78-c2c4-4688-a267-5b54ad144b77')\"\n",
              "                title=\"Suggest charts\"\n",
              "                style=\"display:none;\">\n",
              "\n",
              "<svg xmlns=\"http://www.w3.org/2000/svg\" height=\"24px\"viewBox=\"0 0 24 24\"\n",
              "     width=\"24px\">\n",
              "    <g>\n",
              "        <path d=\"M19 3H5c-1.1 0-2 .9-2 2v14c0 1.1.9 2 2 2h14c1.1 0 2-.9 2-2V5c0-1.1-.9-2-2-2zM9 17H7v-7h2v7zm4 0h-2V7h2v10zm4 0h-2v-4h2v4z\"/>\n",
              "    </g>\n",
              "</svg>\n",
              "      </button>\n",
              "\n",
              "<style>\n",
              "  .colab-df-quickchart {\n",
              "      --bg-color: #E8F0FE;\n",
              "      --fill-color: #1967D2;\n",
              "      --hover-bg-color: #E2EBFA;\n",
              "      --hover-fill-color: #174EA6;\n",
              "      --disabled-fill-color: #AAA;\n",
              "      --disabled-bg-color: #DDD;\n",
              "  }\n",
              "\n",
              "  [theme=dark] .colab-df-quickchart {\n",
              "      --bg-color: #3B4455;\n",
              "      --fill-color: #D2E3FC;\n",
              "      --hover-bg-color: #434B5C;\n",
              "      --hover-fill-color: #FFFFFF;\n",
              "      --disabled-bg-color: #3B4455;\n",
              "      --disabled-fill-color: #666;\n",
              "  }\n",
              "\n",
              "  .colab-df-quickchart {\n",
              "    background-color: var(--bg-color);\n",
              "    border: none;\n",
              "    border-radius: 50%;\n",
              "    cursor: pointer;\n",
              "    display: none;\n",
              "    fill: var(--fill-color);\n",
              "    height: 32px;\n",
              "    padding: 0;\n",
              "    width: 32px;\n",
              "  }\n",
              "\n",
              "  .colab-df-quickchart:hover {\n",
              "    background-color: var(--hover-bg-color);\n",
              "    box-shadow: 0 1px 2px rgba(60, 64, 67, 0.3), 0 1px 3px 1px rgba(60, 64, 67, 0.15);\n",
              "    fill: var(--button-hover-fill-color);\n",
              "  }\n",
              "\n",
              "  .colab-df-quickchart-complete:disabled,\n",
              "  .colab-df-quickchart-complete:disabled:hover {\n",
              "    background-color: var(--disabled-bg-color);\n",
              "    fill: var(--disabled-fill-color);\n",
              "    box-shadow: none;\n",
              "  }\n",
              "\n",
              "  .colab-df-spinner {\n",
              "    border: 2px solid var(--fill-color);\n",
              "    border-color: transparent;\n",
              "    border-bottom-color: var(--fill-color);\n",
              "    animation:\n",
              "      spin 1s steps(1) infinite;\n",
              "  }\n",
              "\n",
              "  @keyframes spin {\n",
              "    0% {\n",
              "      border-color: transparent;\n",
              "      border-bottom-color: var(--fill-color);\n",
              "      border-left-color: var(--fill-color);\n",
              "    }\n",
              "    20% {\n",
              "      border-color: transparent;\n",
              "      border-left-color: var(--fill-color);\n",
              "      border-top-color: var(--fill-color);\n",
              "    }\n",
              "    30% {\n",
              "      border-color: transparent;\n",
              "      border-left-color: var(--fill-color);\n",
              "      border-top-color: var(--fill-color);\n",
              "      border-right-color: var(--fill-color);\n",
              "    }\n",
              "    40% {\n",
              "      border-color: transparent;\n",
              "      border-right-color: var(--fill-color);\n",
              "      border-top-color: var(--fill-color);\n",
              "    }\n",
              "    60% {\n",
              "      border-color: transparent;\n",
              "      border-right-color: var(--fill-color);\n",
              "    }\n",
              "    80% {\n",
              "      border-color: transparent;\n",
              "      border-right-color: var(--fill-color);\n",
              "      border-bottom-color: var(--fill-color);\n",
              "    }\n",
              "    90% {\n",
              "      border-color: transparent;\n",
              "      border-bottom-color: var(--fill-color);\n",
              "    }\n",
              "  }\n",
              "</style>\n",
              "\n",
              "      <script>\n",
              "        async function quickchart(key) {\n",
              "          const quickchartButtonEl =\n",
              "            document.querySelector('#' + key + ' button');\n",
              "          quickchartButtonEl.disabled = true;  // To prevent multiple clicks.\n",
              "          quickchartButtonEl.classList.add('colab-df-spinner');\n",
              "          try {\n",
              "            const charts = await google.colab.kernel.invokeFunction(\n",
              "                'suggestCharts', [key], {});\n",
              "          } catch (error) {\n",
              "            console.error('Error during call to suggestCharts:', error);\n",
              "          }\n",
              "          quickchartButtonEl.classList.remove('colab-df-spinner');\n",
              "          quickchartButtonEl.classList.add('colab-df-quickchart-complete');\n",
              "        }\n",
              "        (() => {\n",
              "          let quickchartButtonEl =\n",
              "            document.querySelector('#df-380a8d78-c2c4-4688-a267-5b54ad144b77 button');\n",
              "          quickchartButtonEl.style.display =\n",
              "            google.colab.kernel.accessAllowed ? 'block' : 'none';\n",
              "        })();\n",
              "      </script>\n",
              "    </div>\n",
              "\n",
              "  <div id=\"id_171439b8-e415-4346-a98f-3cf9ce2a1966\">\n",
              "    <style>\n",
              "      .colab-df-generate {\n",
              "        background-color: #E8F0FE;\n",
              "        border: none;\n",
              "        border-radius: 50%;\n",
              "        cursor: pointer;\n",
              "        display: none;\n",
              "        fill: #1967D2;\n",
              "        height: 32px;\n",
              "        padding: 0 0 0 0;\n",
              "        width: 32px;\n",
              "      }\n",
              "\n",
              "      .colab-df-generate:hover {\n",
              "        background-color: #E2EBFA;\n",
              "        box-shadow: 0px 1px 2px rgba(60, 64, 67, 0.3), 0px 1px 3px 1px rgba(60, 64, 67, 0.15);\n",
              "        fill: #174EA6;\n",
              "      }\n",
              "\n",
              "      [theme=dark] .colab-df-generate {\n",
              "        background-color: #3B4455;\n",
              "        fill: #D2E3FC;\n",
              "      }\n",
              "\n",
              "      [theme=dark] .colab-df-generate:hover {\n",
              "        background-color: #434B5C;\n",
              "        box-shadow: 0px 1px 3px 1px rgba(0, 0, 0, 0.15);\n",
              "        filter: drop-shadow(0px 1px 2px rgba(0, 0, 0, 0.3));\n",
              "        fill: #FFFFFF;\n",
              "      }\n",
              "    </style>\n",
              "    <button class=\"colab-df-generate\" onclick=\"generateWithVariable('weights_df')\"\n",
              "            title=\"Generate code using this dataframe.\"\n",
              "            style=\"display:none;\">\n",
              "\n",
              "  <svg xmlns=\"http://www.w3.org/2000/svg\" height=\"24px\"viewBox=\"0 0 24 24\"\n",
              "       width=\"24px\">\n",
              "    <path d=\"M7,19H8.4L18.45,9,17,7.55,7,17.6ZM5,21V16.75L18.45,3.32a2,2,0,0,1,2.83,0l1.4,1.43a1.91,1.91,0,0,1,.58,1.4,1.91,1.91,0,0,1-.58,1.4L9.25,21ZM18.45,9,17,7.55Zm-12,3A5.31,5.31,0,0,0,4.9,8.1,5.31,5.31,0,0,0,1,6.5,5.31,5.31,0,0,0,4.9,4.9,5.31,5.31,0,0,0,6.5,1,5.31,5.31,0,0,0,8.1,4.9,5.31,5.31,0,0,0,12,6.5,5.46,5.46,0,0,0,6.5,12Z\"/>\n",
              "  </svg>\n",
              "    </button>\n",
              "    <script>\n",
              "      (() => {\n",
              "      const buttonEl =\n",
              "        document.querySelector('#id_171439b8-e415-4346-a98f-3cf9ce2a1966 button.colab-df-generate');\n",
              "      buttonEl.style.display =\n",
              "        google.colab.kernel.accessAllowed ? 'block' : 'none';\n",
              "\n",
              "      buttonEl.onclick = () => {\n",
              "        google.colab.notebook.generateWithVariable('weights_df');\n",
              "      }\n",
              "      })();\n",
              "    </script>\n",
              "  </div>\n",
              "\n",
              "    </div>\n",
              "  </div>\n"
            ],
            "application/vnd.google.colaboratory.intrinsic+json": {
              "type": "dataframe",
              "variable_name": "weights_df",
              "summary": "{\n  \"name\": \"weights_df\",\n  \"rows\": 19,\n  \"fields\": [\n    {\n      \"column\": \"A\\u00e7\\u00e3o\",\n      \"properties\": {\n        \"dtype\": \"string\",\n        \"num_unique_values\": 19,\n        \"samples\": [\n          \"ELET3.SA\",\n          \"RAIL3.SA\",\n          \"BEEF3.SA\"\n        ],\n        \"semantic_type\": \"\",\n        \"description\": \"\"\n      }\n    },\n    {\n      \"column\": \"Aloca\\u00e7\\u00e3o \\u00d3tima (%)\",\n      \"properties\": {\n        \"dtype\": \"number\",\n        \"std\": 5.129891760425772,\n        \"min\": 0.0,\n        \"max\": 10.0,\n        \"num_unique_values\": 2,\n        \"samples\": [\n          0.0,\n          10.0\n        ],\n        \"semantic_type\": \"\",\n        \"description\": \"\"\n      }\n    }\n  ]\n}"
            }
          },
          "metadata": {}
        },
        {
          "output_type": "stream",
          "name": "stdout",
          "text": [
            "\n",
            "Retorno Anual do Portfólio: -0.57%\n",
            "Volatilidade Anual do Portfólio: 15.87%\n",
            "Índice de Sharpe: -0.7188\n"
          ]
        }
      ]
    },
    {
      "cell_type": "markdown",
      "source": [
        "### Referências Bibliográficas\n",
        "\n",
        "**Markowitz, H.** (1952). *Portfolio selection*. The Journal of Finance, 7(1), 77-91.  \n",
        "[DOI: 10.1111/j.1540-6261.1952.tb01525.x](https://doi.org/10.1111/j.1540-6261.1952.tb01525.x)  \n",
        "\n",
        "**Markowitz, H. M.** (1990). *Foundations of Portfolio Theory: Nobel Lecture*. Economic Sciences, 279-287.  \n",
        "[Disponível em NobelPrize.org](https://www.nobelprize.org/prizes/economic-sciences/1990/markowitz/lecture/)  \n",
        "\n",
        "**Jagannathan, R., & Ma, T.** (2003). *Risk reduction in large portfolios: Why imposing the wrong constraints helps*. The Journal of Finance, 58(4), 1651-1683.  \n",
        "[DOI: 10.1111/1540-6261.00580](https://doi.org/10.1111/1540-6261.00580)  \n"
      ],
      "metadata": {
        "id": "FeMRwW5mZyS5"
      }
    },
    {
      "cell_type": "markdown",
      "source": [
        "## Parte 2: Fluxo NTN-B (Com Juros Semestral)"
      ],
      "metadata": {
        "id": "QHyzYPcNZ0d9"
      }
    },
    {
      "cell_type": "markdown",
      "source": [
        "Para a avaliação de um modelo de fluxo de pagamentos de um **título de renda fixa**, especificamente uma NTN-B (título público indexado à inflação com juros semestrais), abordaremos os conceitos fundamentais de precificação e análise de risco desse tipo de título. A NTN-B paga juros reais semestrais corrigidos pela inflação e devolve o principal corrigido pela inflação ao vencimento.\n",
        "\n",
        "  O modelo calcula:\n",
        "  - **Juros semestrais**: Pagamentos periódicos ajustados pela inflação\n",
        "  - **Principal no vencimento**: Valor nominal corrigido pelo IPCA acumulado\n",
        "\n",
        "  1. **Fluxo de Pagamentos**\n",
        "\n",
        "  **a) Valor Nominal Atualizado (VNA):**\n",
        "$$\n",
        "VNA_t = VNA_{t-1} \\times \\frac{IPCA_{t-1}}{IPCA_{t-2}} \\quad \\text{(se dia 15 do mês)}\n",
        "$$\n",
        "ou\n",
        "$$\n",
        "VNA_t = VNA_{t-1} \\times (1 + IPCA_{proj})^{\\frac{du1}{du2}} \\quad \\text{(após dia 15)}\n",
        "$$\n",
        "- **Onde**:\n",
        "  - $VNA$ =  Valor Nominal Atualizado\n",
        "  - $du1$ = Número de dias úteis entre o dia 15 do mês anterior (inclusive) ao da liquidação e a data de liquidação (exclusive);\n",
        "  - $du2$ = Número de dias úteis entre o dia 15 do mês anterior ao mês de liquidação (inclusive) e o dia 15 do mês de liquidação (exclusive).\n",
        "\n",
        "**b) Cupom Semestral:** Como a taxa anual do cupom é 6%, a semestral será 2,9563%\n",
        "$$\n",
        "C_t = \\left[(1 + \\text{Taxa Real})^{1/2} - 1\\right] \\times VNA_t\n",
        "$$\n",
        "\n",
        "**c) Preço Unitário (PU):**\n",
        "$$\n",
        "PU = \\left[ \\sum_{k=1}^n \\frac{C_k}{(1 + TIR)^{du_k/252}} + \\frac{VNA_n}{(1 + TIR)^{du_n/252}} \\right]\n",
        "$$\n",
        "\n",
        "2. **Duration de Macaulay**\n",
        "\n",
        "Mede a sensibilidade do preço do título às variações nas taxas de juros (representa o prazo médio ponderado para recebimento dos fluxos, considerando o valor presente de cada fluxo):\n",
        "\n",
        "$$\n",
        "D = \\frac{\\sum_{t=1}^n \\left( \\frac{t}{252} \\times \\frac{CF_t}{(1 + y)^{t/252}} \\right)}{PU}\n",
        "$$\n",
        "- **$CF_t$**: Fluxo de caixa no período t (cupom ou principal)\n",
        "- **y**: Yield to Maturity (TIR)"
      ],
      "metadata": {
        "id": "z03OsfLfjk_p"
      }
    },
    {
      "cell_type": "code",
      "source": [
        "import numpy as np\n",
        "from datetime import datetime, timedelta\n",
        "from dateutil.relativedelta import relativedelta\n",
        "from typing import Optional, Tuple\n",
        "\n",
        "class NTNB:\n",
        "    def __init__(self, taxa_real_anual: float, data_compra: str, data_venc: str,\n",
        "                 ipca_proj: float, principal_nominal: float=2097.583332, liquidacao: Optional[str] = None):\n",
        "        # Parâmetros do título\n",
        "        self.taxa_real_anual = taxa_real_anual\n",
        "        self.taxa_real_semestral = (1 + taxa_real_anual) ** 0.5 - 1  # Conversão da taxa anual para semestral\n",
        "        self.data_compra = datetime.strptime(data_compra, \"%d/%m/%Y\")\n",
        "        self.data_venc = datetime.strptime(data_venc, \"%d/%m/%Y\")\n",
        "        self.data_liq = datetime.strptime(liquidacao, \"%d/%m/%Y\") if liquidacao else self.data_compra + timedelta(days=1)\n",
        "        self.ipca_proj = ipca_proj\n",
        "        self.principal = principal_nominal\n",
        "\n",
        "        # Geração das datas dos cupons e tempos em anos\n",
        "        self.datas_cupons = self._datas_cupons()\n",
        "        self.tempos = [(d - self.data_liq).days / 365.0 for d in self.datas_cupons]\n",
        "\n",
        "    def _datas_cupons(self):\n",
        "        # Gera datas de cupons a cada 6 meses até a liquidação\n",
        "        datas = []\n",
        "        d = self.data_venc\n",
        "        while d > self.data_liq:\n",
        "            datas.append(d)\n",
        "            d -= relativedelta(months=6)\n",
        "        return sorted(datas)\n",
        "\n",
        "    def _vna(self, t: float) -> float:\n",
        "        # Valor Nominal Atualizado (VNA) pela inflação projetada\n",
        "        return self.principal * (1 + self.ipca_proj) ** t\n",
        "\n",
        "    def calcular_fluxos(self) -> Tuple[np.ndarray, np.ndarray]:\n",
        "        # Calcula os fluxos de cupons e amortização final\n",
        "        vna = np.array([self._vna(t) for t in self.tempos])\n",
        "        cupons = vna * self.taxa_real_semestral\n",
        "        cupons[-1] += vna[-1]  # Amortização final no último fluxo\n",
        "        return cupons, np.array(self.tempos)\n",
        "\n",
        "    def calcular_pu(self, tir: Optional[float] = None) -> float:\n",
        "        # Calcula o preço unitário (PU) descontando os fluxos\n",
        "        fluxos, tempos = self.calcular_fluxos()\n",
        "        taxa = (1 + (tir or self.taxa_real_anual)) ** 0.5 - 1  # TIR em base semestral\n",
        "        pv = fluxos / (1 + taxa) ** (2 * tempos)  # Valor presente dos fluxos\n",
        "        self.pu = pv.sum()\n",
        "        # Armazena para uso posterior\n",
        "        self.fluxos, self.tempos, self.pv_fluxos = fluxos, tempos, pv\n",
        "        return self.pu\n",
        "\n",
        "    def calcular_duration(self, tir: Optional[float] = None) -> float:\n",
        "        # Calcula a duração (duration) dos fluxos descontados\n",
        "        if not hasattr(self, \"pv_fluxos\"):\n",
        "            self.calcular_pu(tir)\n",
        "        duration = np.sum(self.tempos * self.pv_fluxos) / self.pu\n",
        "        self.duration = duration\n",
        "        return duration\n",
        "\n",
        "    def gerar_relatorio(self, tir: Optional[float] = None):\n",
        "        # Gera relatório completo: PU, duration, tabela de fluxos\n",
        "        self.calcular_pu(tir)\n",
        "        self.calcular_duration(tir)\n",
        "\n",
        "        print(f\"\\n{' Relatório NTN-B ':=^50}\")\n",
        "        print(f\"Compra: {self.data_compra:%d/%m/%Y} | Liquidação: {self.data_liq:%d/%m/%Y} | Vencimento: {self.data_venc:%d/%m/%Y}\")\n",
        "        print(f\"Taxa real anual: {self.taxa_real_anual:.2%} | IPCA proj: {self.ipca_proj:.2%}\")\n",
        "        print(f\"TIR usada: {(tir if tir else self.taxa_real_anual):.2%}\")\n",
        "        print(f\"\\nPU: {self.pu:.6f} | Duration: {self.duration:.4f} anos\\n\")\n",
        "\n",
        "        # Cabeçalho da tabela\n",
        "        print(f\"{'Data':<12}{'Dias':>6}{'Anos':>8}{'VNA':>15}{'Cupom':>15}{'Fluxo':>15}{'VP':>15}\")\n",
        "\n",
        "        # Detalhamento dos fluxos por data\n",
        "        for d, t, f, vp in zip(self.datas_cupons, self.tempos, self.fluxos, self.pv_fluxos):\n",
        "            dias = (d - self.data_liq).days\n",
        "            vna = self._vna(t)\n",
        "            cupom = vna * self.taxa_real_semestral\n",
        "            if d == self.datas_cupons[-1]:\n",
        "                cupom += vna  # Inclui amortização final\n",
        "            print(f\"{d:%d/%m/%Y}{dias:>6}{t:>8.4f}{vna:>15.6f}{cupom:>15.6f}{f:>15.6f}{vp:>15.6f}\")"
      ],
      "metadata": {
        "id": "w1arEAYP8gv-"
      },
      "execution_count": null,
      "outputs": []
    },
    {
      "cell_type": "code",
      "source": [
        "# Exemplo de uso\n",
        "titulo = NTNB(\n",
        "    taxa_real_anual=0.06,\n",
        "    data_compra=\"02/01/2012\",\n",
        "    data_venc=\"15/05/2017\",\n",
        "    ipca_proj=0.0053,\n",
        "    liquidacao=\"03/01/2012\"\n",
        ")\n",
        "titulo.gerar_relatorio(tir=0.0532)"
      ],
      "metadata": {
        "colab": {
          "base_uri": "https://localhost:8080/"
        },
        "id": "DUk1yLc7WViH",
        "outputId": "541c023c-d97e-48ea-e85e-ebd7e9ba5254"
      },
      "execution_count": null,
      "outputs": [
        {
          "output_type": "stream",
          "name": "stdout",
          "text": [
            "\n",
            "================ Relatório NTN-B =================\n",
            "Compra: 02/01/2012 | Liquidação: 03/01/2012 | Vencimento: 15/05/2017\n",
            "Taxa real anual: 6.00% | IPCA proj: 0.53%\n",
            "TIR usada: 5.32%\n",
            "\n",
            "PU: 2232.409466 | Duration: 4.6656 anos\n",
            "\n",
            "Data          Dias    Anos            VNA          Cupom          Fluxo             VP\n",
            "15/05/2012   133  0.3644    2101.627450      62.130442      62.130442      60.967987\n",
            "15/11/2012   317  0.8685    2107.235179      62.296223      62.296223      59.554036\n",
            "15/05/2013   498  1.3644    2112.766076      62.459733      62.459733      58.195136\n",
            "15/11/2013   682  1.8685    2118.403525      62.626393      62.626393      56.845492\n",
            "15/05/2014   863  2.3644    2123.963736      62.790770      62.790770      55.548396\n",
            "15/11/2014  1047  2.8685    2129.631064      62.958313      62.958313      54.260134\n",
            "15/05/2015  1228  3.3644    2135.220744      63.123561      63.123561      53.022031\n",
            "15/11/2015  1412  3.8685    2140.918109      63.291992      63.291992      51.792359\n",
            "15/05/2016  1594  4.3671    2146.568500      63.459035      63.459035      50.604111\n",
            "15/11/2016  1778  4.8712    2152.296144      63.628361      63.628361      49.430516\n",
            "15/05/2017  1959  5.3671    2157.945314    2221.740681    2221.740681    1682.189267\n"
          ]
        }
      ]
    },
    {
      "cell_type": "markdown",
      "source": [
        "## Parte 3: Análise de Crédito"
      ],
      "metadata": {
        "id": "jEkuKEvcaoEO"
      }
    },
    {
      "cell_type": "markdown",
      "source": [
        "**Empresa: SUZANO PAPEL E CELULOSE S.A.**\n",
        "\n",
        "**Proposta: Limite de R$ 500MM, prazo de 6 anos**\n",
        "\n",
        "A presente análise tem como objetivo avaliar a viabilidade da concessão de um limite de crédito de R$ 500 milhões, com prazo de 6 anos, para a Suzano Papel e Celulose S.A., uma das maiores produtoras de celulose de fibra curta e papel da América Latina.\n",
        "\n",
        "A análise apresenta a seguinte estruturação:\n",
        "- Breve overview da empresa\n",
        "- Principais de riscos e mitigantes\n",
        "- Análise do Balanço, DRE e fluxo de caixa\n",
        "- Parecer sobre a proposta\n",
        "  \n",
        "Fonte dos dados:\n",
        "https://ri.suzano.com.br/Portuguese/informacoes-financeiras/central-de-resultados/default.aspx\n"
      ],
      "metadata": {
        "id": "UPnnL60jqyId"
      }
    },
    {
      "cell_type": "markdown",
      "source": [
        "#### **i. Breve Overview da Empresa**\n"
      ],
      "metadata": {
        "id": "2s7YghA7r1Os"
      }
    },
    {
      "cell_type": "markdown",
      "source": [
        "A Suzano Papel e Celulose S.A. é uma das maiores empresas do setor de **papel e celulose do mundo**, com forte presença no mercado nacional e internacional. A companhia se destaca pela **integração vertical** de suas operações, abrangendo desde a gestão sustentável de florestas até a produção e comercialização de papel e celulose. Recentemente, a Suzano tem investido em inovação, sustentabilidade e expansão de capacidade produtiva, o que a posiciona como uma referência no setor. Além disso, a empresa possui uma governança robusta e um histórico consistente de adaptações frente às variáveis econômicas globais e regionais.\n",
        "\n",
        "**Highlights**:\n",
        "\n",
        "- A Suzano S.A., originária da fusão com a Fibria em 2019, é a maior produtora mundial de celulose de eucalipto e uma das maiores fabricantes de papel da América Latina.\n",
        "\n",
        "- Opera verticalmente integrada: base florestal (2,6 milhões de hectares plantados e preservados), 11 unidades industriais em diversas regiões do Brasil, logística própria com portos e ferrovias.\n",
        "\n",
        "- No final de 2024, inaugurou a nova fábrica de Ribas do Rio Pardo (MS), com capacidade anual de 2,55 milhões t de celulose e investimentos de ~R\\$ 22,2 bi.\n",
        "\n",
        "- Em 1Q25 reportou receita líquida recorde de R\\$ 11,6 bi (+22% vs 1Q24), EBITDA ajustado de R\\$ 4,9 bi (+7%) e geração de caixa operacional de R\\$ 2,6 bi (+5%).\n",
        "\n",
        "- Fundada em 1924, com forte governança (Novo Mercado), ações listadas na B3 (SUZB3) e na NYSE como ADRs."
      ],
      "metadata": {
        "id": "v-5OZOWLr4ly"
      }
    },
    {
      "cell_type": "code",
      "source": [
        "import yfinance as yf\n",
        "import matplotlib.pyplot as plt\n",
        "dados = yf.download('SUZB3.SA', period='5y')\n",
        "plt.figure(figsize=(10,5))\n",
        "plt.plot(dados.index, dados['Close'], color='blue', linewidth=1)\n",
        "plt.title('Preço das Ações da Suzano (SUZB3) - Últimos 5 anos')\n",
        "plt.ylabel('Preço (R$)')\n",
        "plt.grid(True)\n",
        "plt.show()"
      ],
      "metadata": {
        "colab": {
          "base_uri": "https://localhost:8080/",
          "height": 525
        },
        "id": "M1dhRly53nG5",
        "outputId": "cc7ad8ff-d082-4c09-b51e-cfe1214d0ca9"
      },
      "execution_count": null,
      "outputs": [
        {
          "output_type": "stream",
          "name": "stderr",
          "text": [
            "/tmp/ipython-input-72-357966535.py:3: FutureWarning: YF.download() has changed argument auto_adjust default to True\n",
            "  dados = yf.download('SUZB3.SA', period='5y')\n",
            "\r[*********************100%***********************]  1 of 1 completed\n"
          ]
        },
        {
          "output_type": "display_data",
          "data": {
            "text/plain": [
              "<Figure size 1000x500 with 1 Axes>"
            ],
            "image/png": "[encoded data removed]"
          },
          "metadata": {}
        }
      ]
    },
    {
      "cell_type": "markdown",
      "source": [
        "#### **ii. Principais de riscos e mitigantes**"
      ],
      "metadata": {
        "id": "7VmOU9jq1e4-"
      }
    },
    {
      "cell_type": "markdown",
      "source": [
        "1. **Risco de Mercado: Preço de Celulose e Papel**\n",
        "\n",
        "    - **Descrição**: Os preços internacionais de celulose e papel são altamente voláteis, impactados por oferta e demanda global, sazonalidade, estoques dos compradores, eventos geopolíticos e concorrência na Ásia.\n",
        "\n",
        "    - **Evidências**: O preço líquido médio (US$/t) da celulose e do papel oscilaram, respectivamente, -11% e 23% entre 2024 e 2025. Entretanto, no mercado externo, o volume de celulose representa 2.223.108 toneladas, enquanto o de papel apenas 103.474.\n",
        "\n",
        "    - **Mitigantes**: Diversificação geográfica de clientes localizados em diversos continentes (Américas, Europa e Ásia). Estratégia comercial de recomposição de estoques para níveis normalizados.\n",
        "\n",
        "2. **Risco Cambial: Dívida exposta ao dólar**\n",
        "\n",
        "    - **Descrição**: Como 80% da dívida está em USD e 81% da receita é gerada no exterior, variações do BRL/USD afetam diretamente resultados financeiros e contábeis.\n",
        "\n",
        "    - **Evidências**: Resultado financeiro líquido positivo em R$ 7,7 bi no 1T25, impulsionado pela valorização do BRL. Além disso, apresenta dívida líquida em USD 12,923 bi no 1T25.\n",
        "\n",
        "    - **Mitigantes**: Política ativa de hedge cambial com ZCC e NDF (cobrindo aproximadamente 71% da exposição). Hedge natural proporcionado pelas receitas exportadoras em USD. Além disso, o resultado de operações com derivativos foi positivo em R$ 3.693 milhões no 1T25 sobretudo em função do impacto positivo da valorização cambial.\n",
        "\n",
        "3. **Risco de Endividamento / Alavancagem Financeira**\n",
        "\n",
        "    - **Descrição**:  Possui endividamento elevado em valores absolutos. A alta alavancagem pode pressionar o rating ou dificultar novas captações em cenários adversos.\n",
        "\n",
        "    - **Evidências**: Dívida líquida de R$ 74,2 bi. Além disso, Dívida líquida/EBITDA Ajustado: 3,1x (BRL) e 3,0x (USD).\n",
        "\n",
        "    - **Mitigantes**: Apresenta uma Liquidez robusta de R$ 24,2 bi. Perfil de dívida alongado: 76 meses de prazo médio. Custo da dívida em USD controlado: 5,0% a.a. Forte geração operacional de caixa (FCF yield de 18,5%).\n",
        "\n",
        "\n",
        "4. **Risco Operacional: Concentração de paradas para manutenção**\n",
        "\n",
        "    - **Descrição**: Paradas programadas ou não programadas podem reduzir a produção e impactar resultados de curto prazo.\n",
        "\n",
        "    - **Evidências**: EBITDA Ajustado da celulose foi 26% inferior em relação ao 4T24, tendo como um de seus fatores o maior impacto das paradas programadas para manutenção. A Geração de caixa do segmento de celulose caiu -48% em 1T25 com relação ao 4T24.\n",
        "\n",
        "    - **Mitigantes**: Calendário de paradas pré-definido e investimentos contínuos em manutenção preventiva. Projetos recentes, trazem ganhos de eficiência e redução de custo unitário no médio prazo, suportados por maior volume produzido a partir da nova operação de Ribas do Rio Pardo.\n",
        "\n",
        "5. **Risco Ambiental e Regulatórios: ESG**\n",
        "    - **Descrição**: Exposição à regulação ambiental (licenças, uso de água e florestas) e à percepção pública sobre sustentabilidade no setor.\n",
        "\n",
        "    - **Evidências**: Aquecimento global e medidas governamentais de mitigação.\n",
        "\n",
        "    - **Mitigantes**: 45% da dívida vinculada a instrumentos ESG. Governança ambiental em conformidade com os Sustainability Linked Loan Principle (SLLP), emitidos pela International Capital Market Association (ICMA). Projetos de substituição de plástico de uso único.\n",
        "\n",
        "6. **Risco Macroeconômico Global**\n",
        "    - **Descrição**: O cenário global de juros altos, inflação e desaceleração pode afetar demanda, preço e custo de capital.\n",
        "\n",
        "    - **Evidências**: No início de 2025, na América do Norte e na Europa, já se observa um retorno às tendências estruturais de redução na demanda, exacerbada pelas incertezas macroeconômicas globais\n",
        "\n",
        "    - **Mitigantes**: Suzano opera com base de clientes diversificada globalmente. Ajuste de volumes e estoques táticos em momentos de baixa demanda.\n",
        "\n",
        "7. **Risco Geopolítico e Barreiras Comerciais: Risco Trump**\n",
        "\n",
        "    - **Descrição**: A dependência das exportações de celulose para mercados estratégicos, como os Estados Unidos, expõe a Suzano a medidas protecionistas e geopolíticas que podem afetar significativamente suas margens e volumes exportados.\n",
        "\n",
        "    - **Evidências**: Em 21 de julho de 2025, os Estados Unidos anunciaram um tarifário de 50% sobre a celulose brasileira, diretamente afetando as exportações da Suzano ([Fonte: G1](https://g1.globo.com/sp/mogi-das-cruzes-suzano/noticia/2025/07/21/tarifaco-imposto-de-50percent-dos-eua-ameaca-exportacoes-da-suzano.ghtml)).\n",
        "\n",
        "    - **Mitigantes**: Estratégia ativa de diversificação de mercados (Ásia, Europa, América Latina). Capacidade logística e comercial para redirecionar volumes em resposta a choques externos. Presença produtiva nos EUA (Suzano Packaging US, porém, apenas papel cartão), que pode atenuar parte dos impactos no segmento de papel.\n",
        "\n",
        "Em suma, apesar de operar em um setor cíclico e sensível ao câmbio e preços internacionais, em especial, aos riscos das alterações recentes nas decisões da Casa Branca. A Suzano mostra forte capacidade de mitigar riscos estruturais com estratégias sólidas de hedge, escala global, robustez de caixa, disciplina de alocação de capital e decisão de investimentos estratégicos.\n"
      ],
      "metadata": {
        "id": "2wNtg0n72PN_"
      }
    },
    {
      "cell_type": "markdown",
      "source": [
        "#### **iii. Análise do Balanço, DRE e fluxo de caixa**"
      ],
      "metadata": {
        "id": "ZK6sCr12EnW6"
      }
    },
    {
      "cell_type": "markdown",
      "source": [
        "##### **1. Análise do Balanço Patrimonial**\n",
        "\n",
        "  | Indicador                              | Valor 1T25 (R\\$ bilhões) | Comentários                                       |\n",
        "  | -------------------------------------- | ------------------- | ------------------------------------------------- |\n",
        "  | **Dívida Bruta Total**                 | 91.043                | Redução de 10% vs. 4T24, com 96% no longo prazo   |\n",
        "  | **Caixa, equivalentes e Aplicações Financeiras**               | 16.8                | 49% em USD, 51% em BRL                            |\n",
        "  | **Dívida Líquida**                     | 74.209                | Leve redução trimestral; aumento de 24% vs. 1T24  |\n",
        "  | **Dívida Líq./EBITDA Ajustado (R\\$)**  | 3,1x                | Queda em relação aos 3,6x do 1T24                 |\n",
        "  | **Dívida Líq./EBITDA Ajustado (US\\$)** | 3,0x                | Leve alta frente ao 4T24 (2,9x)                   |\n",
        "  | **Prazo Médio da Dívida**              | 76 meses            | Perfil alongado, com baixa pressão de curto prazo |\n",
        "\n",
        "  Desse modo, é possível pontuar que estrutura de capital é robusta, com alta previsibilidade. A dívida está majoritariamente em moeda estrangeira (80% do total), porém, também é importante pontuar a natureza exportadora da Suzano e suas estratégias de hedge.\n",
        "\n",
        "##### **2. Análise da Demonstração do Resultado (DRE)**\n",
        "\n",
        "| Indicador                        | Valor 1T25 (R\\$ milhões) | Variação Y-o-Y | Variação Q-o-Q                       |\n",
        "| -------------------------------- | ------------------------ | -------------- | ------------------------------------ |\n",
        "| **Receita Líquida**              | 11.553                   | +22%           | –19%                                 |\n",
        "| **EBITDA Ajustado**              | 4.866                    | +7%            | –25%                                 |\n",
        "| **Margem EBITDA Ajustada**       | 42%                      | –6 p.p.        | –4 p.p.                              |\n",
        "| **Lucro Líquido**                | 6.348                    | fortemente +   | reversão de prejuízo (4T24: –6,7 bi) |\n",
        "| **Resultado Financeiro Líquido** | +7.696                   | reversão       | alta expressiva                      |\n",
        "\n",
        "\n",
        "Apesar da queda no volume vendido (–18% no consolidado), a receita e a margem foram sustentadas pela valorização cambial e maior contribuição da Suzano Packaging US.\n",
        "O lucro líquido foi impulsionado por efeito contábil de variação cambial sobre a dívida em USD e operações de hedge. Excluindo esse efeito, o resultado recorrente é mais modesto.\n",
        "\n",
        "##### **3. Análise do Fluxo de Caixa**\n",
        "\n",
        "| Indicador                                            | Valor (R\\$ milhões)     | Comentários                                 |\n",
        "| ---------------------------------------------------- | ----------------------- | ------------------------------------------- |\n",
        "| **Geração de Caixa Operacional (Consolidada)**       | 2.625                   | –46% vs. 4T24; +5% vs. 1T24                 |\n",
        "| **Capex de Manutenção**                              | \\~2.240                 | Concentrado no projeto Cerrado e manutenção |\n",
        "| **Free Cash Flow Yield (UDM)**                       | 18,5%                   | Alta atratividade para o setor              |\n",
        "| **Disponibilidade total (Caixa + crédito rotativo)** | R\\$ 24,2 bi             | Forte liquidez imediata                     |\n",
        "| **Projetos em andamento**                            | Cerrado (97% executado) | Restam R\\$ 0,6 bi de capex                  |\n",
        "\n",
        "A geração operacional de caixa caiu no trimestre por conta de paradas programadas e redução no volume de vendas, mas se mantém sólida no acumulado de 12 meses. A Suzano segue com alta capacidade de autofinanciamento, mesmo em um ciclo de investimentos e depreciação cambial.\n",
        "\n",
        "\n",
        "##### **4.  Indicadores-Chave Consolidados**\n",
        "\n",
        "| Indicador                    | Resultado | Comentários                             |\n",
        "| ---------------------------- | --------- | ----------------------------------------- |\n",
        "| EBITDA/t                     | R\\$ 1.600 | Redução de 5% Y-o-Y, reflexo de CPV maior |\n",
        "| CPV base caixa/t             | R\\$ 1.811 | +23% Y-o-Y, impacto de paradas e dólar    |\n",
        "| Geração de caixa/op. por t   | R\\$ 830   | Resiliência mesmo com capex elevado       |\n",
        "| Margem EBITDA papel/celulose | 21–49%    | Celulose com maior margem estrutural      |\n",
        "\n",
        "\n",
        "A análise financeira da Suzano no 1T25 confirma uma empresa com estrutura de capital sólida, excelente liquidez e geração consistente de caixa. A volatilidade do trimestre foi pontual (paradas técnicas e câmbio), mas o desempenho anualizado é robusto. A alavancagem, embora acima da média de alguns setores, está dentro dos limites para empresas de base exportadora e com ativos industriais de grande escala. A companhia apresenta capacidade comprovada de honrar obrigações financeiras, mesmo sob choques cambiais e macroeconômicos adversos."
      ],
      "metadata": {
        "id": "mQbiItHvEs6F"
      }
    },
    {
      "cell_type": "markdown",
      "source": [
        "#### **iv. Parecer sobre a proposta**"
      ],
      "metadata": {
        "id": "nk9ddzpKIw2J"
      }
    },
    {
      "cell_type": "markdown",
      "source": [
        "Com base na análise realizada, conclui-se que a Suzano Papel e Celulose reúne as condições necessárias para suportar a proposta de crédito em avaliação. A empresa apresenta fundamentos operacionais e financeiros sólidos, destacando-se pela sua posição de liderança no setor de papel e celulose, elevada capacidade de geração de caixa, disciplina na gestão de capital e práticas consistentes de mitigação de riscos.\n",
        "\n",
        "A estrutura de capital da companhia é robusta, com dívida majoritariamente de longo prazo, liquidez imediata superior a R$ 24 bilhões e indicadores de alavancagem controlados (Dívida Líquida/EBITDA em 3,1x). A geração de caixa operacional, mesmo diante de volatilidades sazonais e paradas programadas, mantém-se suficiente para cobrir obrigações financeiras e reinvestimentos, com Free Cash Flow Yield acumulado de 18,5% nos últimos 12 meses.\n",
        "\n",
        "Riscos relevantes, como volatilidade cambial, queda de preços da celulose e tensões comerciais (ex: tarifa de 50% imposta pelos EUA em julho/2025), são monitorados de forma ativa e mitigados por meio de estratégias como hedge cambial, diversificação geográfica e flexibilidade operacional. A companhia ainda conta com elevada exposição a receitas em dólar, funcionando como hedge natural para sua dívida majoritariamente em moeda estrangeira.\n",
        "\n",
        "A proposta de crédito no valor de R\\$ 500 milhões, com prazo de 6 anos, representa menos de 1% da dívida bruta consolidada da Suzano (R\\$ 91 bilhões) e cerca de 7% da sua liquidez imediata (R\\$ 16,8 bilhões em caixa). Além disso, a empresa apresenta uma geração de EBITDA ajustado trimestral de R\\$ 4,87 bilhões, o que equivale a quase 10 vezes o valor da proposta em apenas um trimestre.\n",
        "\n",
        "Portanto, o volume de crédito solicitado é bastante conservador frente à escala financeira da companhia, tanto em termos de endividamento atual quanto de capacidade operacional e de geração de caixa. A Suzano tem plena condição de absorver a operação sem comprometer seu balanço ou indicadores de alavancagem."
      ],
      "metadata": {
        "id": "WndsjTKlI1Vn"
      }
    },
    {
      "cell_type": "markdown",
      "source": [
        "### Referência\n",
        "\n",
        "1. [Suzano – Central de Resultados (RI)](https://ri.suzano.com.br/Portuguese/informacoes-financeiras/central-de-resultados/default.aspx)"
      ],
      "metadata": {
        "id": "8KIJLK3yYO9f"
      }
    }
  ]
}